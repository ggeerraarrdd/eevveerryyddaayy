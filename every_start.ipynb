{
 "cells": [
  {
   "cell_type": "markdown",
   "metadata": {},
   "source": [
    "## Initialize Project"
   ]
  },
  {
   "cell_type": "code",
   "execution_count": 1,
   "metadata": {},
   "outputs": [],
   "source": [
    "from src import eevveerryyddaayy"
   ]
  },
  {
   "cell_type": "code",
   "execution_count": 2,
   "metadata": {},
   "outputs": [],
   "source": [
    "# Project: Title\n",
    "PROJ_TITLE='[ ] Everyday'\n",
    "\n",
    "# Index Table: Extra Column\n",
    "NB=0\n",
    "NB_NAME='NB'\n",
    "\n",
    "# Index Table: Sequential Numbering\n",
    "SEQ_NOTATION=0\n",
    "\n",
    "# Index Table: Sequential Gaps\n",
    "SEQ_SPARSE=0\n",
    "\n",
    "# Form: Site Options\n",
    "SITE_OPTIONS=['Codewars', 'DataLemur', 'LeetCode']"
   ]
  },
  {
   "cell_type": "code",
   "execution_count": 3,
   "metadata": {},
   "outputs": [
    {
     "name": "stdout",
     "output_type": "stream",
     "text": [
      "Project is already initialized.\n",
      "Use every_update.ipynb to update project settings.\n",
      "Use every_entry.ipynb to create a project entry.\n"
     ]
    },
    {
     "data": {
      "text/plain": [
       "0"
      ]
     },
     "execution_count": 3,
     "metadata": {},
     "output_type": "execute_result"
    }
   ],
   "source": [
    "eevveerryyddaayy(PROJ_TITLE, NB, NB_NAME, SEQ_NOTATION, SEQ_SPARSE, SITE_OPTIONS, source=0)"
   ]
  }
 ],
 "metadata": {
  "kernelspec": {
   "display_name": "venv",
   "language": "python",
   "name": "python3"
  },
  "language_info": {
   "codemirror_mode": {
    "name": "ipython",
    "version": 3
   },
   "file_extension": ".py",
   "mimetype": "text/x-python",
   "name": "python",
   "nbconvert_exporter": "python",
   "pygments_lexer": "ipython3",
   "version": "3.12.1"
  }
 },
 "nbformat": 4,
 "nbformat_minor": 2
}
